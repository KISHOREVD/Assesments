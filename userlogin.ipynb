{
  "nbformat": 4,
  "nbformat_minor": 0,
  "metadata": {
    "colab": {
      "name": "file handling assignment .ipynb",
      "provenance": []
    },
    "kernelspec": {
      "name": "python3",
      "display_name": "Python 3"
    },
    "language_info": {
      "name": "python"
    }
  },
  "cells": [
    {
      "cell_type": "code",
      "source": [
        "# run this code for execution\n",
        "homepage()"
      ],
      "metadata": {
        "id": "VNB74ajrUNBj"
      },
      "execution_count": null,
      "outputs": []
    },
    {
      "cell_type": "code",
      "source": [
        "#what user wants to do\n",
        "def homepage():\n",
        "  print(\"Register or login or forgotpassword\")\n",
        "  user=input(\"enter what you want to do \")\n",
        "  if user=='Register':\n",
        "    register(df1)\n",
        "  elif user==\"login\":\n",
        "    login(df1)\n",
        "  elif user=='forgotpassword':\n",
        "    forgot_password(df1)"
      ],
      "metadata": {
        "id": "yhsvJTOAWPX7"
      },
      "execution_count": 153,
      "outputs": []
    },
    {
      "cell_type": "code",
      "source": [
        "import pandas as pd    #creating a dataframe\n",
        "dict1={\"unique_id\":[\"0\"],\n",
        "         \"password\":[\"0\"],\n",
        "         \"name\":[\"0\"],\n",
        "         \"contact_no\":[\"0\"],\n",
        "         \"occupation\":[\"0\"]}\n",
        "df1=pd.DataFrame(dict1)"
      ],
      "metadata": {
        "id": "LpW5-Xs58ISz"
      },
      "execution_count": 155,
      "outputs": []
    },
    {
      "cell_type": "code",
      "source": [
        "def enter_email():\n",
        "      email=input(\"Enter Email id: \")   # user email entry\n",
        "      email=list(email)\n",
        "      if '@' and '.' in email: # check whether @ and . in email id\n",
        "        if email.index('@')+1<email.index('.'): # @ and . should not be consecutive\n",
        "          if email[0].isalpha(): #email id should not start with numbers or special characters\n",
        "              print(\"proceed for password\")\n",
        "              x=\"\".join(email)\n",
        "              return str(x)\n",
        "          else:\n",
        "            print(\"invalid email_id:First character of email_id must be a alphabet\")\n",
        "            return enter_email()\n",
        "        else:\n",
        "            print(\"invalid email_id @ and . cannot be in consecutive position\")\n",
        "            return enter_email()\n",
        "      else:\n",
        "          print(\"invalid email_id\")\n",
        "          return enter_email()\n",
        "def enter_password(): \n",
        "      x=\"\"\" Give valid password :\n",
        "            passwords must be of length between 5 and 16\n",
        "            Must have minimum-one special character,one digit,one uppercase,one lowercase character \"\"\"\n",
        "      password=input(\"Enter password: \")\n",
        "      if 5<=len(password)<=16: 3 #checking length\n",
        "        import re\n",
        "        if re.findall(\"[0-9]\",password) and  re.findall(\"[A-Z]\", password) and re.findall(\"[a-z]\", password):\n",
        "          if  not password.isalnum():  # for checking special character\n",
        "            print(\"proceed to user information\")\n",
        "            return password\n",
        "          else:\n",
        "            print(x)\n",
        "            return enter_password()\n",
        "        else:\n",
        "          print(x)\n",
        "          return enter_password()\n",
        "      else:\n",
        "        print(x)\n",
        "        return enter_password()"
      ],
      "metadata": {
        "id": "GhQyl_chD9fB"
      },
      "execution_count": 136,
      "outputs": []
    },
    {
      "cell_type": "code",
      "source": [
        "def register(x):\n",
        "  global df1\n",
        "  df1=x\n",
        "  email=enter_email()\n",
        "  password=enter_password()\n",
        "  unique_id=str(email)+str(password) # creating a unique_id \n",
        "  name=input(\"enter your name: \")\n",
        "  contact_no=input(\"enter your phone number: \")\n",
        "  occupation=input(\"enter your occupation: \")\n",
        "  dict1=[unique_id,password,name,contact_no,occupation]\n",
        "  df2=pd.DataFrame([dict1],columns=df1.columns.values)\n",
        "  df1=pd.concat([df1,df2],ignore_index=True)"
      ],
      "metadata": {
        "id": "xD5uWJIwH5P5"
      },
      "execution_count": 137,
      "outputs": []
    },
    {
      "cell_type": "code",
      "source": [
        "def login(data):\n",
        "  email=enter_email()\n",
        "  password=enter_password()\n",
        "  unique_id=str(email)+str(password)\n",
        "  if unique_id in data[\"unique_id\"].values:\n",
        "    print(\"Here are your details\")\n",
        "    print(data[[\"name\",\"contact_no\",\"occupation\"]][data[\"unique_id\"]==unique_id])\n",
        "  else:\n",
        "    print(\"No records found for you please recheck the email and password\")"
      ],
      "metadata": {
        "id": "yNcT1TSUZyVw"
      },
      "execution_count": 145,
      "outputs": []
    },
    {
      "cell_type": "code",
      "source": [
        "def forgot_password(data):\n",
        "    forget_pass=input(\"enter your contact no for retreiving the password\")\n",
        "    if forget_pass in data[\"contact_no\"].values:\n",
        "      print(\"your password is\",data[\"password\"][data[\"contact_no\"]==forget_pass].values)\n",
        "    else:\n",
        "      print(\"no such contact number registered\")"
      ],
      "metadata": {
        "id": "X_q2wzU3cn1J"
      },
      "execution_count": 139,
      "outputs": []
    }
  ]
}